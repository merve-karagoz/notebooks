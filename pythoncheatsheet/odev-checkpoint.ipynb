{
 "cells": [
  {
   "cell_type": "code",
   "execution_count": 1,
   "metadata": {},
   "outputs": [],
   "source": [
    "#not uygulaması"
   ]
  },
  {
   "cell_type": "code",
   "execution_count": null,
   "metadata": {},
   "outputs": [
    {
     "name": "stdin",
     "output_type": "stream",
     "text": [
      "1-Notları Oku\n",
      "2- Not Gir\n",
      "3- Notları Kayıt Et\n",
      "4- Çıkış\n",
      " 2\n",
      "Öğrenci adı: merve\n",
      "Öğrenci soyad: karagöz\n",
      "not1: 70\n",
      "not2: 60\n",
      "not3: 100\n",
      "1-Notları Oku\n",
      "2- Not Gir\n",
      "3- Notları Kayıt Et\n",
      "4- Çıkış\n",
      " 1\n"
     ]
    },
    {
     "name": "stdout",
     "output_type": "stream",
     "text": [
      "merve karagöz: CC\n",
      "\n"
     ]
    }
   ],
   "source": [
    "def not_hesapla(satir):\n",
    "    satir = satir[:-1]\n",
    "    liste = satir.split(':')\n",
    "    \n",
    "    ogrenciAdi = liste[0]\n",
    "    notlar = liste[1].split(',')\n",
    "    \n",
    "    not1 = int(notlar[0])\n",
    "    not2 = int(notlar[1])\n",
    "    not3 = int(notlar[2])\n",
    "    \n",
    "    ortalama = (not1+not2+not3)/3\n",
    "    \n",
    "    if ortalama>=90 and ortalama<=100:\n",
    "        harf = \"AA\"\n",
    "    elif ortalama>85 and ortalama<=89:\n",
    "        harf = \"BA\"\n",
    "    elif ortalama>=65: \n",
    "        harf = \"CC\"\n",
    "    else:\n",
    "        harf = \"FF\"\n",
    "        \n",
    "    return ogrenciAdi + \": \" + harf + \"\\n\"\n",
    "        \n",
    "    \n",
    "def ortalamalari_oku():\n",
    "    with open(\"sinav_notlari.txt\",\"r\",encoding=\"utf-8\") as file:\n",
    "        for satir in file:\n",
    "            print(not_hesapla(satir))\n",
    "            \n",
    "            \n",
    "def not_gir():\n",
    "    ad = input('Öğrenci adı:')\n",
    "    soyad = input('Öğrenci soyad:')\n",
    "    not1 = input('not1:')\n",
    "    not2 = input('not2:')\n",
    "    not3 = input('not3:')\n",
    "    \n",
    "    \n",
    "    with open(\"sinav_notlari.txt\",\"a\", encoding=\"utf-8\") as file:\n",
    "        file.write(ad+' '+ soyad+ ':'+not1+','+not2+','+not3+'\\n')\n",
    "\n",
    "def notlari_kayitet():\n",
    "    with open('sinav_notlari.txt',\"r\",encoding=\"utf-8\") as file:\n",
    "        liste = []\n",
    "        \n",
    "        for i in file:\n",
    "            liste.append(not_hesapla(i))\n",
    "            \n",
    "        with open(\"sonuclar.txt\",\"w\",encoding=\"utf-8\") as file2:\n",
    "            for i in liste:\n",
    "                file2.write(i)\n",
    "           \n",
    "        \n",
    "while True:\n",
    "    islem= input('1-Notları Oku\\n2- Not Gir\\n3- Notları Kayıt Et\\n4- Çıkış\\n')\n",
    "    \n",
    "    if islem == \"1\":\n",
    "        ortalamalari_oku()\n",
    "    elif islem == \"2\":\n",
    "        not_gir()\n",
    "    elif islem == \"3\":\n",
    "        notlari_kayitet()\n",
    "    else:\n",
    "        break"
   ]
  }
 ],
 "metadata": {
  "kernelspec": {
   "display_name": "Python 3",
   "language": "python",
   "name": "python3"
  },
  "language_info": {
   "codemirror_mode": {
    "name": "ipython",
    "version": 3
   },
   "file_extension": ".py",
   "mimetype": "text/x-python",
   "name": "python",
   "nbconvert_exporter": "python",
   "pygments_lexer": "ipython3",
   "version": "3.9.0"
  }
 },
 "nbformat": 4,
 "nbformat_minor": 4
}
