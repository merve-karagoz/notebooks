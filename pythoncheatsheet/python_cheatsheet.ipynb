{
  "nbformat": 4,
  "nbformat_minor": 0,
  "metadata": {
    "colab": {
      "name": "python-cheatsheet.ipynb",
      "provenance": [],
      "collapsed_sections": []
    },
    "kernelspec": {
      "name": "python3",
      "display_name": "Python 3"
    },
    "language_info": {
      "name": "python"
    }
  },
  "cells": [
    {
      "cell_type": "markdown",
      "source": [
        "# 1. Veri Tipleri\n",
        "Basitçe Veri Tipleri, Python'da değerleri temsil etmenin bir yoludur. Aşağıda listenene tipler Python'da en sık\n",
        "kullanılan veri tipleridir.\n",
        "\n",
        " * **int** ( tam sayıları temsil eder- 7 9)\n",
        " * **float** (ondalıklı sayıları temsil eder - 10.3 5.2)\n",
        " * **str** (yazıları temsil eder - abc a b)\n",
        " * **bool** (bool değerleri temsil eder- true false 1 0)\n",
        " * **list**\n",
        " * **dict**\n",
        " * **tuple** \n",
        " * **set**\n",
        " * **None**(to represent an absence of value)"
      ],
      "metadata": {
        "id": "Ddp2RiqfsYiL"
      }
    },
    {
      "cell_type": "code",
      "execution_count": null,
      "metadata": {
        "colab": {
          "base_uri": "https://localhost:8080/"
        },
        "id": "A5Pd16IosPPo",
        "outputId": "a6c19fd1-9f4e-410a-b3ab-55f065422247"
      },
      "outputs": [
        {
          "output_type": "stream",
          "name": "stdout",
          "text": [
            "<class 'int'>\n",
            "<class 'float'>\n",
            "<class 'int'>\n",
            "<class 'float'>\n"
          ]
        }
      ],
      "source": [
        "num = 100 # değişken tanımlamak\n",
        "print(type(num)) # <class 'int'>\n",
        "\n",
        "num2 = 99.99\n",
        "print(type(num2)) # <class 'float>\n",
        "\n",
        "expression1 = num * 10\n",
        "print(type(expression1)) # <class 'int'>\n",
        "\n",
        "expression2 = num + num2\n",
        "print(type(expression2)) # <class 'float'>"
      ]
    },
    {
      "cell_type": "code",
      "source": [
        "print(round(2.1)) # 2  round tam sayıya çevirir\n",
        "print(round(5.9)) # 6\n",
        "print(abs(-34)) # 34"
      ],
      "metadata": {
        "colab": {
          "base_uri": "https://localhost:8080/"
        },
        "id": "fx-18rsAbvhM",
        "outputId": "3b223931-508a-4f48-ea0b-b68ec58bd40e"
      },
      "execution_count": null,
      "outputs": [
        {
          "output_type": "stream",
          "name": "stdout",
          "text": [
            "2\n",
            "6\n",
            "34\n"
          ]
        }
      ]
    },
    {
      "cell_type": "markdown",
      "source": [
        "# 1.2 Değişkenler (Variables)\n",
        "\n",
        " * Değişkenler değerleri depolar. Aşağıdakiler, Python'da adlandırma kurallarıdır:\n",
        " * Değişkenler bir harfle (tercihen küçük harfle) veya alt çizgiyle başlamalı ve ardından sayılar veya alt çizgi\n",
        "gelmelidir\n",
        " * Snake case, user_name gibi birden çok kelimeyle değişken yazmanın geleneksel yoludur.\n",
        " * Büyük / küçük harfe duyarlıdırlar\n",
        " * Anahtar kelimeler, anahtar kelimelerin (Python anahtar kelimeleri) üzerine yazılmamalıdır"
      ],
      "metadata": {
        "id": "atz_b2Z4dfXe"
      }
    },
    {
      "cell_type": "code",
      "source": [
        "user_name = 7\n",
        "print(user_name)"
      ],
      "metadata": {
        "colab": {
          "base_uri": "https://localhost:8080/"
        },
        "id": "0JKXuosSecRk",
        "outputId": "bcf6fcc0-22e3-484c-bd94-70620599f0e8"
      },
      "execution_count": null,
      "outputs": [
        {
          "output_type": "stream",
          "name": "stdout",
          "text": [
            "7\n"
          ]
        }
      ]
    },
    {
      "cell_type": "markdown",
      "source": [
        "# 1.3 Stringler (Strings)\n",
        "\n",
        "karakterlerin bir araya gelerek oluşturduğu veri tipleridir.\n"
      ],
      "metadata": {
        "id": "8_7lmsGTdxHx"
      }
    },
    {
      "cell_type": "code",
      "source": [
        "name = 'Python' # tek tırnak ile tanımlamak\n",
        "\n",
        "name2 = \"Python\" # çift tırnak ile tanımlamak\n",
        "\n",
        "name3 = '''Bu oldukça uzun bir stringdir.\n",
        "Bu şekilde birkaç satırda yazabiliriz''' # 3 tırnak işareti ile tanımlamak"
      ],
      "metadata": {
        "id": "tZ3mI6Mwd4cL"
      },
      "execution_count": null,
      "outputs": []
    },
    {
      "cell_type": "markdown",
      "source": [
        "# String Birleştirme (String Concatenation)"
      ],
      "metadata": {
        "id": "4ESyaellf-ME"
      }
    },
    {
      "cell_type": "code",
      "source": [
        "first_name = 'Merve'\n",
        "last_name = 'Karagöz'\n",
        "print(first_name + ' ' + last_name)"
      ],
      "metadata": {
        "colab": {
          "base_uri": "https://localhost:8080/"
        },
        "id": "hDOxTf9Tf_6j",
        "outputId": "e3774e95-652d-4038-f660-38ccd26b930d"
      },
      "execution_count": null,
      "outputs": [
        {
          "output_type": "stream",
          "name": "stdout",
          "text": [
            "Merve Karagöz\n"
          ]
        }
      ]
    },
    {
      "cell_type": "code",
      "source": [
        "\"3\" + \"5\""
      ],
      "metadata": {
        "colab": {
          "base_uri": "https://localhost:8080/",
          "height": 35
        },
        "id": "4NQc5IPllqAE",
        "outputId": "ac9c133b-5df9-4eeb-cbeb-2960fd184fab"
      },
      "execution_count": null,
      "outputs": [
        {
          "output_type": "execute_result",
          "data": {
            "text/plain": [
              "'35'"
            ],
            "application/vnd.google.colaboratory.intrinsic+json": {
              "type": "string"
            }
          },
          "metadata": {},
          "execution_count": 11
        }
      ]
    },
    {
      "cell_type": "markdown",
      "source": [
        "# Veri Tipi Dönüşümleri (Type Conversion)"
      ],
      "metadata": {
        "id": "s6JPINbpnXvp"
      }
    },
    {
      "cell_type": "code",
      "source": [
        "float(7)  # ondalık sayıya çevirir"
      ],
      "metadata": {
        "colab": {
          "base_uri": "https://localhost:8080/"
        },
        "id": "bvQB8edmnZfd",
        "outputId": "5ff3c9d3-1e8c-465b-a7c5-8f297853adbb"
      },
      "execution_count": null,
      "outputs": [
        {
          "output_type": "execute_result",
          "data": {
            "text/plain": [
              "7.0"
            ]
          },
          "metadata": {},
          "execution_count": 13
        }
      ]
    },
    {
      "cell_type": "code",
      "source": [
        "float(int(3.5))  # ilk önce 3 oldu int olarak sonra float çevirildi 3.0 oldu"
      ],
      "metadata": {
        "colab": {
          "base_uri": "https://localhost:8080/"
        },
        "id": "kleqRYxpn1Zd",
        "outputId": "d0e0b294-c498-4d64-f98f-2a9d1e8c9a9f"
      },
      "execution_count": null,
      "outputs": [
        {
          "output_type": "execute_result",
          "data": {
            "text/plain": [
              "3.0"
            ]
          },
          "metadata": {},
          "execution_count": 14
        }
      ]
    },
    {
      "cell_type": "markdown",
      "source": [
        "# String Indeksleri (String Indexes)\n",
        "\n",
        "Python'daki dizeler basitçe sıralı karakter koleksiyonudur. Böylece onunla birçok harika numara yapabiliriz. Bir\n",
        "dizenin karakterlerine erişebilir, bir alt dizeyi seçebilir, bir dizeyi tersine çevirebilir ve çok daha fazlasını\n",
        "yapabiliriz. Aynı zamanda sicim dilimleme olarak da adlandırılır."
      ],
      "metadata": {
        "id": "M_IVg4DoobMz"
      }
    },
    {
      "cell_type": "code",
      "source": [
        " # index sıfırdan başlar\n",
        "language = 'python'    \n",
        "language[4]    "
      ],
      "metadata": {
        "colab": {
          "base_uri": "https://localhost:8080/",
          "height": 35
        },
        "id": "GvtAq_xAodaC",
        "outputId": "2f985ee4-6ad6-4b48-c801-03fa477acf5b"
      },
      "execution_count": null,
      "outputs": [
        {
          "output_type": "execute_result",
          "data": {
            "text/plain": [
              "'o'"
            ],
            "application/vnd.google.colaboratory.intrinsic+json": {
              "type": "string"
            }
          },
          "metadata": {},
          "execution_count": 23
        }
      ]
    },
    {
      "cell_type": "code",
      "source": [
        "language[0:2]  # sağdaki ifade 2 dahil değil demek (0 ile başla 1 i al 2 yi alma)"
      ],
      "metadata": {
        "colab": {
          "base_uri": "https://localhost:8080/",
          "height": 35
        },
        "id": "S9Ue6hYdpRXl",
        "outputId": "69c101ff-8ee7-4624-b360-714e127a5132"
      },
      "execution_count": null,
      "outputs": [
        {
          "output_type": "execute_result",
          "data": {
            "text/plain": [
              "'py'"
            ],
            "application/vnd.google.colaboratory.intrinsic+json": {
              "type": "string"
            }
          },
          "metadata": {},
          "execution_count": 24
        }
      ]
    },
    {
      "cell_type": "code",
      "source": [
        "language[:4]  # soldaki boşluk sayı verilmezse 0 dan baaşla baştan başla yazan sayıya kadar 4 e kadar al"
      ],
      "metadata": {
        "colab": {
          "base_uri": "https://localhost:8080/",
          "height": 35
        },
        "id": "Z2KQE4sip76t",
        "outputId": "adc98a8d-57d1-4942-b5b6-90c01e728900"
      },
      "execution_count": null,
      "outputs": [
        {
          "output_type": "execute_result",
          "data": {
            "text/plain": [
              "'pyth'"
            ],
            "application/vnd.google.colaboratory.intrinsic+json": {
              "type": "string"
            }
          },
          "metadata": {},
          "execution_count": 25
        }
      ]
    },
    {
      "cell_type": "code",
      "source": [
        "print(language[0:2])    # burada indeks 0'dan başla ve indeks 1'de bitir 2 yi alma\n",
        "print(language[:4])     # soldaki boşluk sayı verilmezse 0 dan baaşla baştan başla yazan sayıya kadar 4 e kadar al\n",
        "print(language[2:])     # sağ tarafta sayı yoksa 2 den başla sonsuza kaddar al \n",
        "print(language[:])      # hiç sayı yoksa en baştan başla en sona git tüm değerleri al\n"
      ],
      "metadata": {
        "colab": {
          "base_uri": "https://localhost:8080/"
        },
        "id": "LrJK1iRGqO3h",
        "outputId": "54092c11-97fe-48db-fb43-3731f2b83133"
      },
      "execution_count": null,
      "outputs": [
        {
          "output_type": "stream",
          "name": "stdout",
          "text": [
            "py\n",
            "pyth\n",
            "thon\n",
            "python\n"
          ]
        }
      ]
    },
    {
      "cell_type": "code",
      "source": [
        "print(language[0::1])   # 0'da başlar, 1'in üzerinde adımla sonunda durur\n",
        "print(language[::2])    # 0'dan başlar, 2. adımla bitene kadar\n",
        "print(language[-1])     # son karakteri seçer\n",
        "print(language[-2])     # ikinci son karakter\n",
        "print(language[::-1])   # sondan başlar ve dizeyi tersine çevirir\n",
        "print(language[::-2])   # dizeyi tersine çevirir ve 1 karakter atlar"
      ],
      "metadata": {
        "colab": {
          "base_uri": "https://localhost:8080/"
        },
        "id": "seG1QXwQrpE6",
        "outputId": "a988074f-3832-485f-e39b-b61c2243bc51"
      },
      "execution_count": null,
      "outputs": [
        {
          "output_type": "stream",
          "name": "stdout",
          "text": [
            "python\n",
            "pto\n",
            "n\n",
            "o\n",
            "nohtyp\n",
            "nhy\n"
          ]
        }
      ]
    },
    {
      "cell_type": "markdown",
      "source": [
        "# 1.4 Mantiksal Operatorler ve Boolean"
      ],
      "metadata": {
        "id": "P331G1hMtelA"
      }
    },
    {
      "cell_type": "markdown",
      "source": [
        "![image.png](data:image/png;base64,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)"
      ],
      "metadata": {
        "id": "TIK5uz0Uhaj3"
      }
    },
    {
      "cell_type": "code",
      "source": [
        "print(True or False)\n",
        "print(True and False)\n",
        "print(not False)\n",
        "print(True == False)\n",
        "print(True != False)"
      ],
      "metadata": {
        "colab": {
          "base_uri": "https://localhost:8080/"
        },
        "id": "cjqeQ6CThwfs",
        "outputId": "74daa4c4-8142-4a54-fb94-e575c438105b"
      },
      "execution_count": null,
      "outputs": [
        {
          "output_type": "stream",
          "name": "stdout",
          "text": [
            "True\n",
            "False\n",
            "True\n",
            "False\n",
            "True\n"
          ]
        }
      ]
    },
    {
      "cell_type": "code",
      "source": [
        "isim = 'Merve'\n",
        "soyad = 'Karagöz'\n",
        "print(isim == soyad)"
      ],
      "metadata": {
        "colab": {
          "base_uri": "https://localhost:8080/"
        },
        "id": "bbPG2WdViP-V",
        "outputId": "c3b8f14c-2fe1-4f66-a712-f82d2e14eab9"
      },
      "execution_count": null,
      "outputs": [
        {
          "output_type": "stream",
          "name": "stdout",
          "text": [
            "False\n"
          ]
        }
      ]
    },
    {
      "cell_type": "markdown",
      "source": [
        "# 1.5 Listeler (Lists)\n",
        "\n",
        "Listeler önemli bir veri türüdür. Organize bir nesne koleksiyonudur. Aynı zamanda, verileri farklı amaçlar için\n",
        "belirli bir biçimde düzenleyen bir kap anlamına gelen bir veri yapısıdır. [] İle gösterilirler. Aynı veya farklı veri\n",
        "türlerini birlikte depolamak için kullanılabilirler."
      ],
      "metadata": {
        "id": "tS3Gm-SjiXZq"
      }
    },
    {
      "cell_type": "code",
      "source": [
        "a = [1, 2 ,3 , 4]\n",
        "b = [\"Python\", 4, 5, 6, [1, 2, 3], True]\n",
        "print(a, b)"
      ],
      "metadata": {
        "colab": {
          "base_uri": "https://localhost:8080/"
        },
        "id": "2oT14gY5iZlZ",
        "outputId": "4cb17d2b-0232-4882-c039-dcf4a4653fd7"
      },
      "execution_count": null,
      "outputs": [
        {
          "output_type": "stream",
          "name": "stdout",
          "text": [
            "[1, 2, 3, 4] ['Python', 4, 5, 6, [1, 2, 3]]\n"
          ]
        }
      ]
    },
    {
      "cell_type": "code",
      "source": [
        "a[3]"
      ],
      "metadata": {
        "colab": {
          "base_uri": "https://localhost:8080/"
        },
        "id": "B9TT8mGSjBLH",
        "outputId": "3f82ca24-a5cc-4452-d5c5-6381f6006c1a"
      },
      "execution_count": null,
      "outputs": [
        {
          "output_type": "execute_result",
          "data": {
            "text/plain": [
              "4"
            ]
          },
          "metadata": {},
          "execution_count": 7
        }
      ]
    },
    {
      "cell_type": "code",
      "source": [
        "print(b[4])  ^# dizi içindeki dizileri parantez içindekileri aldı"
      ],
      "metadata": {
        "colab": {
          "base_uri": "https://localhost:8080/"
        },
        "id": "fhAT4JKujUKD",
        "outputId": "15a38883-f1cd-4f8c-ce6d-2d83f139ddff"
      },
      "execution_count": null,
      "outputs": [
        {
          "output_type": "stream",
          "name": "stdout",
          "text": [
            "[1, 2, 3]\n"
          ]
        }
      ]
    },
    {
      "cell_type": "markdown",
      "source": [
        "Listelerden eleman çıkartılması (pop, remove, clear)"
      ],
      "metadata": {
        "id": "HnvwIqy5kAAg"
      }
    },
    {
      "cell_type": "code",
      "source": [
        "# Pop\n",
        "languages = ['C', 'C#', 'C++']\n",
        "languages.pop()\n",
        "print(languages) # ['C', 'C#']"
      ],
      "metadata": {
        "colab": {
          "base_uri": "https://localhost:8080/"
        },
        "id": "wHa_dGuEkB8m",
        "outputId": "463cedfc-5205-4a14-cba0-b358fa8c2e9c"
      },
      "execution_count": null,
      "outputs": [
        {
          "output_type": "stream",
          "name": "stdout",
          "text": [
            "['C', 'C#']\n"
          ]
        }
      ]
    },
    {
      "cell_type": "code",
      "source": [
        "# Remove\n",
        "languages.remove('C')\n",
        "print(languages) # ['C#']"
      ],
      "metadata": {
        "colab": {
          "base_uri": "https://localhost:8080/"
        },
        "id": "j_rLzrcXkKPO",
        "outputId": "367550da-7b12-424c-ef50-a82e7f9dc8e9"
      },
      "execution_count": null,
      "outputs": [
        {
          "output_type": "stream",
          "name": "stdout",
          "text": [
            "['C#']\n"
          ]
        }
      ]
    },
    {
      "cell_type": "code",
      "source": [
        "# Clear\n",
        "languages.clear()\n",
        "print(languages) # []"
      ],
      "metadata": {
        "colab": {
          "base_uri": "https://localhost:8080/"
        },
        "id": "UPVUAAD3kOVu",
        "outputId": "3905a331-dc0e-4c1b-baf4-00bfcbe777a3"
      },
      "execution_count": null,
      "outputs": [
        {
          "output_type": "stream",
          "name": "stdout",
          "text": [
            "[]\n"
          ]
        }
      ]
    },
    {
      "cell_type": "markdown",
      "source": [
        "İndeksleri almak ve sayma (index, count)"
      ],
      "metadata": {
        "id": "gIxebtZfkUls"
      }
    },
    {
      "cell_type": "code",
      "source": [
        "alphabets = ['a', 'b', 'c']"
      ],
      "metadata": {
        "id": "jR6mlelTkVkE"
      },
      "execution_count": null,
      "outputs": []
    },
    {
      "cell_type": "code",
      "source": [
        "print(alphabets.index('a')) # 0 (Aranan değerin liste içerisindeki indeksini getirir)"
      ],
      "metadata": {
        "colab": {
          "base_uri": "https://localhost:8080/"
        },
        "id": "7L7DNMRxkY03",
        "outputId": "a762446c-7c62-4be1-e92e-929bdea032ef"
      },
      "execution_count": null,
      "outputs": [
        {
          "output_type": "stream",
          "name": "stdout",
          "text": [
            "0\n"
          ]
        }
      ]
    },
    {
      "cell_type": "code",
      "source": [
        "print(alphabets.count('b')) # 1 (Aranan değerin liste içerisinde kaç kez geçtiğini getirir)"
      ],
      "metadata": {
        "colab": {
          "base_uri": "https://localhost:8080/"
        },
        "id": "c3u8gWHmkZHh",
        "outputId": "893212a5-f697-41d0-fa53-92aaa1423df5"
      },
      "execution_count": null,
      "outputs": [
        {
          "output_type": "stream",
          "name": "stdout",
          "text": [
            "1\n"
          ]
        }
      ]
    },
    {
      "cell_type": "markdown",
      "source": [
        "Sıralama, Tersleme ve Kopyalama (Sorting, reversing and copying)"
      ],
      "metadata": {
        "id": "71veww4bkykw"
      }
    },
    {
      "cell_type": "code",
      "source": [
        "# Sort\n",
        "numbers = [1,4,6,3,2,5]\n",
        "numbers.sort() # Sorts the list items in place and returns nothing\n",
        "print(numbers) # [1, 2, 3, 4, 5, 6]"
      ],
      "metadata": {
        "colab": {
          "base_uri": "https://localhost:8080/"
        },
        "id": "wBgS35aakzZO",
        "outputId": "4f862e3e-6153-460a-d20b-eb08cb320d26"
      },
      "execution_count": null,
      "outputs": [
        {
          "output_type": "stream",
          "name": "stdout",
          "text": [
            "[1, 2, 3, 4, 5, 6]\n"
          ]
        }
      ]
    },
    {
      "cell_type": "code",
      "source": [
        "# Sorted\n",
        "# Yeni bir liste olarak alabilirsiniz\n",
        "\n",
        "sorted_numbers = sorted(numbers) # note - this is not a method\n",
        "print(sorted_numbers) # [1, 2, 3, 4, 5, 6]"
      ],
      "metadata": {
        "colab": {
          "base_uri": "https://localhost:8080/"
        },
        "id": "WaQx2yGvkz7D",
        "outputId": "8c758aff-a6f9-4f03-f96c-84b8f05c5e65"
      },
      "execution_count": null,
      "outputs": [
        {
          "output_type": "stream",
          "name": "stdout",
          "text": [
            "[1, 2, 3, 4, 5, 6]\n"
          ]
        }
      ]
    },
    {
      "cell_type": "code",
      "source": [
        "# Reverse\n",
        "numbers.reverse() # Listeyi tersine çevirir\n",
        "print(numbers) # [6, 5, 4, 3, 2, 1]"
      ],
      "metadata": {
        "colab": {
          "base_uri": "https://localhost:8080/"
        },
        "id": "WD1ru7Qekzu9",
        "outputId": "d3c59cd8-0eb9-49c4-c7fd-e7eddbe6413d"
      },
      "execution_count": null,
      "outputs": [
        {
          "output_type": "stream",
          "name": "stdout",
          "text": [
            "[6, 5, 4, 3, 2, 1]\n"
          ]
        }
      ]
    },
    {
      "cell_type": "code",
      "source": [
        "# Copy\n",
        "numbers_clone = numbers.copy() # numbers[:] ile aynı şekilde kopyalar\n",
        "print(numbers_clone) # [6, 5, 4, 3, 2, 1]"
      ],
      "metadata": {
        "colab": {
          "base_uri": "https://localhost:8080/"
        },
        "id": "B4W9WWKAlHS-",
        "outputId": "b4903708-fdaf-4b67-acae-99b137c24925"
      },
      "execution_count": null,
      "outputs": [
        {
          "output_type": "stream",
          "name": "stdout",
          "text": [
            "[6, 5, 4, 3, 2, 1]\n"
          ]
        }
      ]
    },
    {
      "cell_type": "markdown",
      "source": [
        "Proje: Vucut Kitle İndeksi Hesaplama\n",
        "Kullanıcıdan 3 tane girdi alınız:\n",
        "1. İsim (string olarak alınız)\n",
        "2. Kilo (float olarak alınız)\n",
        "3. Boy (santimetre cinsinden integer olarak alınız)\n",
        "Alınan boy ve kilo girdilerini kullanarak girilen kişinin vücut kitle indeksini hesaplayınız (vki = kilo / boy^2) ve\n",
        "virgülden sonra 2. basamağa yuvarlayınız (Santimetre cinsinden girilen boyu, hesap yaparken metre cinsinden\n",
        "kullanmalısınız)\n",
        "Vücut kitle indeksi hesaplama kodunuzu kilo = 75, boy = 1.85 değerlerini kullanarak test ederseniz \"21.91\"\n",
        "değerini elde etmelisiniz\n",
        "Girilen kişi için bir sözlük oluşturun: Anahtar = isim, değer = vücut kitle indeksi olmalıdır\n",
        "Kişiler isimli bir liste oluşturup, oluşturduğunuz sözlüğü listeye ekeyin\n",
        "Buraya kadar olan kısımları 3 kez tekrarlayın ve 3 elemanlı, sözlüklerden oluşan bir liste elde edin\n",
        "Son olarak listedeki 3 kişinin isim ve vücut kitle indeksi verilerini alt alta yazdırın\n",
        "Örnek Çıktı:\n",
        " * Furkan 24.8\n",
        " * Berfin 19.16\n",
        " * Yusuf 21.91"
      ],
      "metadata": {
        "id": "b79qIzowmOcw"
      }
    },
    {
      "cell_type": "code",
      "source": [
        "kisiler = []\n",
        "isim = input(\"İsim giriniz: \")\n",
        "kilo = float(input(\"Kilo giriniz: \"))\n",
        "boy = int(input(\"Boy giriniz (cm): \")) / 100\n",
        "vki = round(kilo/((boy)**2), 2)\n",
        "kisi = {isim:vki}\n",
        "kisiler.append(kisi)\n",
        "isim = input(\"İsim giriniz: \")\n",
        "kilo = float(input(\"Kilo giriniz: \"))\n",
        "boy = int(input(\"Boy giriniz (cm): \")) / 100\n",
        "vki = round(kilo/((boy)**2), 2)\n",
        "kisi = {isim:vki}\n",
        "kisiler.append(kisi)\n",
        "isim = input(\"İsim giriniz: \")\n",
        "kilo = float(input(\"Kilo giriniz: \"))\n",
        "boy = int(input(\"Boy giriniz (cm): \")) / 100\n",
        "vki = round(kilo/((boy)**2), 2)\n",
        "kisi = {isim:vki}\n",
        "kisiler.append(kisi)\n",
        "print(list(kisiler[0].keys())[0],list(kisiler[0].values())[0])\n",
        "print(list(kisiler[1].keys())[0],list(kisiler[1].values())[0])\n",
        "print(list(kisiler[2].keys())[0],list(kisiler[2].values())[0])"
      ],
      "metadata": {
        "id": "c2NP-TEzmWN0"
      },
      "execution_count": null,
      "outputs": []
    }
  ]
}